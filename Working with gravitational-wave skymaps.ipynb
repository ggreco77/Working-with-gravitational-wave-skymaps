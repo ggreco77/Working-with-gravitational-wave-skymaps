{
 "cells": [
  {
   "cell_type": "markdown",
   "metadata": {},
   "source": [
    "<img style=\"float: left;padding: 1.3em\" src=\"https://indico.in2p3.fr/event/18313/logo-786578160.png\">  \n",
    "\n",
    "#  Gravitational Wave Open Data Workshop #2\n",
    "\n",
    "###  Paris, April 8-10 2019 \n",
    "*[Université Paris Diderot, France](https://www.univ-paris-diderot.fr/)*\n",
    "\n",
    "                                                                            Tutorial 2.6"
   ]
  },
  {
   "cell_type": "markdown",
   "metadata": {},
   "source": [
    " \n",
    "#  Electromagnetic follow-up of gravitational-wave events\n",
    "\n",
    "\n",
    "In this tutorial we will learn how: \n",
    "\n",
    "    1) to visualize over the sky the gravitational-wave localization \n",
    "    \n",
    "    2) to get information from the image's header\n",
    "    \n",
    "    3) to identify the maximum probability pixel \n",
    "    \n",
    "    4) to create the confidence levels and query the galaxy catalog(s)\n",
    " \n",
    "##  Installation and initialization\n"
   ]
  },
  {
   "cell_type": "code",
   "execution_count": 1,
   "metadata": {},
   "outputs": [],
   "source": [
    "from IPython.display import display, Math, Latex"
   ]
  },
  {
   "cell_type": "markdown",
   "metadata": {},
   "source": [
    "###  Python packages\n",
    "\n",
    "We will need [healpy](https://healpy.readthedocs.org/en/latest/) [astropy](http://www.astropy.org/), [astropy-healpix](https://astropy-healpix.readthedocs.io/en/latest/installation.html), [ligo.skymap](https://pypi.org/project/ligo.skymap/), [numpy](http://www.numpy.org/),  [matplotlib](https://matplotlib.org/).\n",
    "\n",
    "\n",
    "### Aladin Sky Atlas\n",
    "\n",
    "Aladin is an interactive sky atlas allowing the user to visualize digitized astronomical images or full surveys, superimpose entries from astronomical catalogues or databases, and interactively access related data and information from the *Simbad* database, the *VizieR* service and other archives for all known astronomical objects in the field. Installation instruction are provided [here](<https://aladin.u-strasbg.fr/java/nph-aladin.pl?frame=downloading)."
   ]
  },
  {
   "cell_type": "markdown",
   "metadata": {},
   "source": [
    "# LIGO/Virgo probability sky maps - a short introduction\n",
    " \n",
    "Probability sky maps associated with a gravitational-wave signal detected by \n",
    "the Advanced LIGO and Virgo are given as all-sky \n",
    "images stored in the [HEALPix](http://healpix.sourceforge.net/)\n",
    "(Hierarchical Equal Area isoLatitude Pixelisation) projection.\n",
    "The  sphere  is  hierarchically tessellated into curvilinear quadrilaterals; \n",
    "the resolution of the tessellation can be increased by the division of each pixel into four new ones.  \n",
    "The lowest resolution partition is comprised of twelve base pixels.\n",
    "The pixel position on the sky is uniquely specified by the index in the array and the array’s length.\n",
    "The resolution of the grid is expressed by the parameter $N_{side}$,\n",
    "and the total number of pixels equal to $N_{pix} = 12 \\times N_{side}^2$. "
   ]
  },
  {
   "cell_type": "markdown",
   "metadata": {},
   "source": [
    "\n",
    "\n",
    "\n",
    "\n",
    "<img style=\"float: left;padding: 1.3em\" src=\"https://healpix.jpl.nasa.gov/images/healpixGridRefinement.jpg\"> "
   ]
  },
  {
   "cell_type": "markdown",
   "metadata": {},
   "source": [
    "**FIG.1.** It shows the partitioning of a sphere at progressively higher resolutions, from left to right. The green sphere represents the lowest resolution possible with the HEALPix base partitioning of the sphere surface into 12 equal sized pixels. The yellow sphere has a HEALPix grid of 48 pixels, the red sphere has 192 pixels, and the blue sphere has a grid of 768 pixels - more information [here](https://healpix.jpl.nasa.gov/). "
   ]
  },
  {
   "cell_type": "markdown",
   "metadata": {},
   "source": [
    "## Downloading  and reading GW sky localizations\n",
    "\n",
    "\n",
    "The signal-to-noise ratio (SNR) contributed by Virgo can significantly shrink the area. We find the smallest 90% sky localization areas for GW170817: $16\\deg^2$ and GW170818: $39 \\deg^2$. The two sky localization maps will be used in the tutorial.\n",
    "\n",
    "\n",
    "\n",
    "\n",
    "\n",
    "\n",
    "Specifically, we will use the LALInference skymap published in  the [Gravitational-Wave Transient Catalog of Compact Binary Mergers (O1 & O2) GWTC-1](https://www.gw-openscience.org/catalog/).\n"
   ]
  },
  {
   "cell_type": "markdown",
   "metadata": {},
   "source": [
    "### Working with GW170818 - BBH merger"
   ]
  },
  {
   "cell_type": "markdown",
   "metadata": {},
   "source": [
    "We will download the refined skymap from the binary black hole (BBH) merger event, GW170818. GW170818 is the second BBH observed in triple-coincidence between the two LIGO observatories and Virgo after [GW170814](https://apod.nasa.gov/apod/ap170928.html)."
   ]
  },
  {
   "cell_type": "code",
   "execution_count": 2,
   "metadata": {},
   "outputs": [],
   "source": [
    "from astropy.utils.data import download_file\n",
    "url = ('https://dcc.ligo.org/public/0157/P1800381/002/GW170818_skymap.fits.gz')\n",
    "gw170818_skymap = download_file(url, cache=True)"
   ]
  },
  {
   "cell_type": "markdown",
   "metadata": {},
   "source": [
    "<span style=\"color:#B22222\"> <strong> ↳ </strong> </span>  We are going to demonstrate how to read HEALPix maps with the official Python library, Healpy."
   ]
  },
  {
   "cell_type": "code",
   "execution_count": 3,
   "metadata": {},
   "outputs": [
    {
     "name": "stdout",
     "output_type": "stream",
     "text": [
      "NSIDE = 1024\n",
      "ORDERING = NESTED in fits file\n",
      "INDXSCHM = IMPLICIT\n",
      "Ordering converted to RING\n"
     ]
    }
   ],
   "source": [
    "import healpy as hp\n",
    "prob, header = hp.read_map(gw170818_skymap, h=True)"
   ]
  },
  {
   "cell_type": "markdown",
   "metadata": {},
   "source": [
    "<span style=\"color:#B22222\"> <strong> ↳ </strong> </span> We can look at the metadata inside the FITS file by printing its header. The circulars issued by the LIGO and Virgo Collaborations contain information from the skymap headers  - more information in [LIGO/Virgo Public Alerts User Guide](https://emfollow.docs.ligo.org/userguide/tutorial/skymaps.html))."
   ]
  },
  {
   "cell_type": "code",
   "execution_count": 4,
   "metadata": {},
   "outputs": [
    {
     "data": {
      "text/plain": [
       "[('XTENSION', 'BINTABLE'),\n",
       " ('BITPIX', 8),\n",
       " ('NAXIS', 2),\n",
       " ('NAXIS1', 32),\n",
       " ('NAXIS2', 12582912),\n",
       " ('PCOUNT', 0),\n",
       " ('GCOUNT', 1),\n",
       " ('TFIELDS', 4),\n",
       " ('TTYPE1', 'PROB'),\n",
       " ('TFORM1', 'D'),\n",
       " ('TUNIT1', 'pix-1'),\n",
       " ('TTYPE2', 'DISTMU'),\n",
       " ('TFORM2', 'D'),\n",
       " ('TUNIT2', 'Mpc'),\n",
       " ('TTYPE3', 'DISTSIGMA'),\n",
       " ('TFORM3', 'D'),\n",
       " ('TUNIT3', 'Mpc'),\n",
       " ('TTYPE4', 'DISTNORM'),\n",
       " ('TFORM4', 'D'),\n",
       " ('TUNIT4', 'Mpc-2'),\n",
       " ('PIXTYPE', 'HEALPIX'),\n",
       " ('ORDERING', 'NESTED'),\n",
       " ('COORDSYS', 'C'),\n",
       " ('NSIDE', 1024),\n",
       " ('INDXSCHM', 'IMPLICIT'),\n",
       " ('OBJECT', 'GW170818'),\n",
       " ('DATE-OBS', '2017-08-18T02:25:09.088401'),\n",
       " ('MJD-OBS', 57983.10079963422),\n",
       " ('DATE', '2018-12-07T05:21:12.820251'),\n",
       " ('CREATOR', 'ligo-skymap-from-samples'),\n",
       " ('ORIGIN', 'LIGO/Virgo'),\n",
       " ('DISTMEAN', 1033.935452663821),\n",
       " ('DISTSTD', 244.9451365743755),\n",
       " ('VCSVERS', 'ligo.skymap 0.0.14'),\n",
       " ('VCSREV', '707cac6e1e006dfcc35b7af4c2f39ba8c3b7fa22'),\n",
       " ('DATE-BLD', '2018-08-28T08:58:40'),\n",
       " ('HISTORY', ''),\n",
       " ('HISTORY', 'Generated by running the following script:'),\n",
       " ('HISTORY',\n",
       "  'ligo-skymap-from-samples --fitsoutname Combined_Isp_Sprec_skymap_time_fi'),\n",
       " ('HISTORY',\n",
       "  'x.fits.gz --seed 103876236 --objid GW170818 Combined_Isp_Sprec_post_time'),\n",
       " ('HISTORY', '_fix.dat')]"
      ]
     },
     "execution_count": 4,
     "metadata": {},
     "output_type": "execute_result"
    }
   ],
   "source": [
    "header"
   ]
  },
  {
   "cell_type": "markdown",
   "metadata": {},
   "source": [
    "### 3D sky maps\n",
    "[Singer et al.(2016)](https://arxiv.org/pdf/1603.07333v2.pdf) discuss a rapid algorithm for obtaining a three-dimensional probability estimates of sky location and luminosity distance from observations of binary \n",
    "compact object mergers with Advanced LIGO and Virgo. Combining the reconstructed gravitational wave volumes with positions and redshifts of possible host  galaxies  provides  a  manageable  list  of  sky location  targets  to  search  for  the  electromagnetic counterpart of the gravitational wave signal  - see the last section.\n",
    "\n",
    "<span style=\"color:#B22222\"> <strong> ↳ </strong> </span>  marginal distance posterior distribution integrated over the whole sky is reported in the header *with* \n",
    "\n",
    "       DISTMEAN    /Posterior mean distance (Mpc)\n",
    "       DISTSTB     /Posterior standard deviation of distance (Mpc)"
   ]
  },
  {
   "cell_type": "markdown",
   "metadata": {},
   "source": [
    "<span style=\"color:#B22222\"> <strong> ↳ </strong> </span> Healpy has several useful plotting routines including **[hp.mollview](https://healpy.readthedocs.io/en/stable/generated/healpy.visufunc.mollview.html#healpy.visufunc.mollview)** for plotting a Mollweide-projection all-sky map: "
   ]
  },
  {
   "cell_type": "code",
   "execution_count": 5,
   "metadata": {},
   "outputs": [
    {
     "name": "stdout",
     "output_type": "stream",
     "text": [
      "0.0 180.0 -180.0 180.0\n",
      "The interval between parallels is 30 deg -0.00'.\n",
      "The interval between meridians is 30 deg -0.00'.\n"
     ]
    },
    {
     "data": {
      "text/plain": [
       "<Figure size 850x540 with 2 Axes>"
      ]
     },
     "metadata": {},
     "output_type": "display_data"
    }
   ],
   "source": [
    "from matplotlib import pyplot as plt \n",
    "\n",
    "hp.mollview(prob, title='GW170817 LALInference',)\n",
    "hp.graticule(local=True)\n",
    "plt.show()"
   ]
  },
  {
   "cell_type": "markdown",
   "metadata": {},
   "source": [
    "The value stored at each pixel represents the probability that the gravitational-wave source \n",
    "is located within that pixel."
   ]
  },
  {
   "cell_type": "markdown",
   "metadata": {},
   "source": [
    "<span style=\"color:#B22222\"> <strong> ↳ </strong> </span> Now we plot the gravitational-wave sky localization using a dedicate package named  [ligo.skymap](https://pypi.org/project/ligo.skymap/)."
   ]
  },
  {
   "cell_type": "code",
   "execution_count": 6,
   "metadata": {},
   "outputs": [
    {
     "name": "stderr",
     "output_type": "stream",
     "text": [
      "/home/gius/.local/lib/python3.6/site-packages/astropy_healpix/core.py:519: RuntimeWarning: invalid value encountered in bilinear_interpolation_weights\n",
      "  result = _core.bilinear_interpolation_weights(lon, lat, nside)\n",
      "/home/gius/.local/lib/python3.6/site-packages/astropy_healpix/core.py:484: RuntimeWarning: invalid value encountered in ring_to_nested\n",
      "  return _core.ring_to_nested(ring_index, nside)\n"
     ]
    },
    {
     "data": {
      "image/png": "[encoded data removed]",
      "text/plain": [
       "<Figure size 576x432 with 1 Axes>"
      ]
     },
     "metadata": {
      "needs_background": "light"
     },
     "output_type": "display_data"
    }
   ],
   "source": [
    "from matplotlib import pyplot as plt \n",
    "\n",
    "from ligo.skymap.tool.ligo_skymap_plot import main\n",
    "main([gw170818_skymap, '--annotate', '--contour', '50', '90',])\n",
    "plt.show()"
   ]
  },
  {
   "cell_type": "markdown",
   "metadata": {},
   "source": [
    "The plot shows the  the 50% and 90% credible regions. The value of these areas are reported at the top left corner. These contours were constructed ranking the pixels from most probable to least, and finally counted how many pixels summed to a given total probability.\n",
    "\n",
    "In the next section, we will identify the highest probability pixel in a gravitational-wave sky localization."
   ]
  },
  {
   "cell_type": "markdown",
   "metadata": {},
   "source": [
    "###  Finding the maximum probability density pixel\n",
    "<span style=\"color:#B22222\"> <strong> ↳ </strong> </span> We are identifying the highest probability pixel `ipix_max` and the probability inside it `highest_probability`."
   ]
  },
  {
   "cell_type": "code",
   "execution_count": 7,
   "metadata": {},
   "outputs": [],
   "source": [
    "import numpy as np\n",
    "ipix_max = np.argmax(prob)\n",
    "highest_probability = prob[ipix_max]"
   ]
  },
  {
   "cell_type": "markdown",
   "metadata": {},
   "source": [
    "<span style=\"color:#B22222\"> <strong> ↳ </strong> </span> Now we define the sky coordinates `ra`, `dec` of the highest probability pixel."
   ]
  },
  {
   "cell_type": "code",
   "execution_count": 8,
   "metadata": {},
   "outputs": [
    {
     "name": "stdout",
     "output_type": "stream",
     "text": [
      "The sky coordinates of the highest probability pixel are: ra = 341.2793 dec = 22.386924481902\n"
     ]
    }
   ],
   "source": [
    "nside = hp.get_nside(prob) # calculate the healpix resolution - nside\n",
    "\n",
    "theta, phi = hp.pix2ang(nside, ipix_max)\n",
    "ra = np.rad2deg(phi)\n",
    "dec = np.rad2deg(0.5 * np.pi - theta)\n",
    "\n",
    "ra = round(ra,5); dec = round(dec,12);\n",
    "print(\"The sky coordinates of the highest probability pixel are:\", \"ra =\",ra,\"dec =\",dec, )"
   ]
  },
  {
   "cell_type": "markdown",
   "metadata": {},
   "source": [
    "The function **[hp.pix2ang](https://healpy.readthedocs.io/en/stable/generated/healpy.pixelfunc.pix2ang.html#healpy.pixelfunc.pix2ang)** converts from pixel index to spherical polar coordinates; the function **[hp.ang2pix](https://healpy.readthedocs.io/en/stable/generated/healpy.pixelfunc.ang2pix.html#healpy.pixelfunc.ang2pix)** does the reverse."
   ]
  },
  {
   "cell_type": "markdown",
   "metadata": {},
   "source": [
    "**Alternatively, you can use [astropy-healpix](https://astropy-healpix.readthedocs.io/en/latest/installation.html) to perform the same tasks.** Recommendation for the Windows OS users."
   ]
  },
  {
   "cell_type": "code",
   "execution_count": 9,
   "metadata": {},
   "outputs": [
    {
     "data": {
      "text/plain": [
       "XTENSION= 'BINTABLE'           / binary table extension                         \n",
       "BITPIX  =                    8 / array data type                                \n",
       "NAXIS   =                    2 / number of array dimensions                     \n",
       "NAXIS1  =                   32 / length of dimension 1                          \n",
       "NAXIS2  =             12582912 / length of dimension 2                          \n",
       "PCOUNT  =                    0 / number of group parameters                     \n",
       "GCOUNT  =                    1 / number of groups                               \n",
       "TFIELDS =                    4 / number of table fields                         \n",
       "TTYPE1  = 'PROB    '                                                            \n",
       "TFORM1  = 'D       '                                                            \n",
       "TUNIT1  = 'pix-1   '                                                            \n",
       "TTYPE2  = 'DISTMU  '                                                            \n",
       "TFORM2  = 'D       '                                                            \n",
       "TUNIT2  = 'Mpc     '                                                            \n",
       "TTYPE3  = 'DISTSIGMA'                                                           \n",
       "TFORM3  = 'D       '                                                            \n",
       "TUNIT3  = 'Mpc     '                                                            \n",
       "TTYPE4  = 'DISTNORM'                                                            \n",
       "TFORM4  = 'D       '                                                            \n",
       "TUNIT4  = 'Mpc-2   '                                                            \n",
       "PIXTYPE = 'HEALPIX '           / HEALPIX pixelisation                           \n",
       "ORDERING= 'NESTED  '           / Pixel ordering scheme: RING, NESTED, or NUNIQ  \n",
       "COORDSYS= 'C       '           / Ecliptic, Galactic or Celestial (equatorial)   \n",
       "NSIDE   =                 1024 / Resolution parameter of HEALPIX                \n",
       "INDXSCHM= 'IMPLICIT'           / Indexing: IMPLICIT or EXPLICIT                 \n",
       "OBJECT  = 'GW170818'           / Unique identifier for this event               \n",
       "DATE-OBS= '2017-08-18T02:25:09.088401' / UTC date of the observation            \n",
       "MJD-OBS =    57983.10079963422 / modified Julian date of the observation        \n",
       "DATE    = '2018-12-07T05:21:12.820251' / UTC date of file creation              \n",
       "CREATOR = 'ligo-skymap-from-samples' / Program that created this file           \n",
       "ORIGIN  = 'LIGO/Virgo'         / Organization responsible for this FITS file    \n",
       "DISTMEAN=    1033.935452663821 / Posterior mean distance (Mpc)                  \n",
       "DISTSTD =    244.9451365743755 / Posterior standard deviation of distance (Mpc) \n",
       "VCSVERS = 'ligo.skymap 0.0.14' / Software version                               \n",
       "VCSREV  = '707cac6e1e006dfcc35b7af4c2f39ba8c3b7fa22' / Software revision (Git)  \n",
       "DATE-BLD= '2018-08-28T08:58:40' / Software build date                           \n",
       "HISTORY                                                                         \n",
       "HISTORY Generated by running the following script:                              \n",
       "HISTORY ligo-skymap-from-samples --fitsoutname Combined_Isp_Sprec_skymap_time_fi\n",
       "HISTORY x.fits.gz --seed 103876236 --objid GW170818 Combined_Isp_Sprec_post_time\n",
       "HISTORY _fix.dat                                                                "
      ]
     },
     "execution_count": 9,
     "metadata": {},
     "output_type": "execute_result"
    }
   ],
   "source": [
    "from astropy.io import fits\n",
    "hdulist = fits.open(\"https://dcc.ligo.org/public/0157/P1800381/002/GW170818_skymap.fits.gz\")\n",
    "\n",
    "hdulist[1].header"
   ]
  },
  {
   "cell_type": "code",
   "execution_count": 10,
   "metadata": {},
   "outputs": [
    {
     "name": "stdout",
     "output_type": "stream",
     "text": [
      "The sky coordinates of the highest probability pixel are: ra = 341.2793 dec = 22.386924481902\n"
     ]
    }
   ],
   "source": [
    "from astropy_healpix.healpy import pix2ang\n",
    "\n",
    "hdulist[1].header['NSIDE'] # get the healpix resolution - nside - from the header\n",
    "\n",
    "theta, phi = hp.pix2ang(nside, ipix_max)\n",
    "ra = np.rad2deg(phi)\n",
    "dec = np.rad2deg(0.5 * np.pi - theta)\n",
    "\n",
    "ra = round(ra,5); dec = round(dec,12);\n",
    "print(\"The sky coordinates of the highest probability pixel are:\", \"ra =\",ra,\"dec =\",dec, )"
   ]
  },
  {
   "cell_type": "markdown",
   "metadata": {},
   "source": [
    "## Working with GW170817 - BNS Merger"
   ]
  },
  {
   "cell_type": "markdown",
   "metadata": {},
   "source": [
    "On August 17, 2017 astronomers around the world were alerted to gravitational waves observed by the Advanced LIGO and Advanced Virgo detectors. This gravitational wave event, now known as GW170817, appeared to be the result of the merger of two neutron stars (BNS). Less than two seconds after the GW170817 signal, NASA's [Fermi](https://fermi.gsfc.nasa.gov/) satellite observed a gamma-ray burst, now known as GRB170817A, and within minutes of these initial detections telescopes around the world began an extensive observing campaign. The [Swope telescope](http://obs.carnegiescience.edu/swope) in Chile was the first to report a bright optical source (SSS17a/AT2017gfo) in the galaxy NGC 4993 and several other teams independently detected the same transient over the next minutes and hours.  \n",
    "GW170817 marks a new era of multi-messenger astronomy, where the same event is observed by both gravitational waves and electromagnetic waves. [The Dawn of Multi-Messenger Astrophysics: Observations of a Binary Neutron Star Merger](http://ligo.org/science/Publication-GW170817MMA/). \n"
   ]
  },
  {
   "cell_type": "markdown",
   "metadata": {},
   "source": [
    "\n",
    "####  ↳ Loading the skymap from the [GWOS](https://www.gw-openscience.org/catalog/) in Aladin\n",
    "* [Using Aladin GUI](https://drive.google.com/open?id=1DlWUxzqgSZpYAckaq58ZGMXHlJAaEwc4) <em>Copy and Paste the link in the Command Bar </em>\n",
    "\n",
    "####  ↳ Reading the header\n",
    "* [Using Aladin GUI](https://drive.google.com/open?id=1sl3_uedBfbbOLvSZCdckSQKPJZwWzyxE) <em>Edit → Fits header </em>\n",
    "           .\n",
    "           .\n",
    "           .\n",
    "        DISTMEAN=    38.59 / Posterior mean distance (Mpc)\n",
    "        DISTSTD =     6.99 / Posterior standard deviation of distance (Mpc)\n",
    "           .\n",
    "           .\n",
    "           .\n",
    "\n",
    "####  ↳ Creating the 90% confidence level \n",
    "* [Using Aladin GUI](https://drive.google.com/open?id=1aH-YvEyN9xeD9kGZkQ7ASXNcDK-33KUt) <em>Coverage → Generate a MOC based on... → The current probability skymap → MOC generation window </em>\n",
    "\n",
    "\n",
    "####  ↳ Setting Drawing method\n",
    "* [Using Aladin GUI](https://drive.google.com/open?id=1Xy6S-y9SRB_TIKFYcecUrXtqdAZ96YcI) <em> Aladin stack → Select the plane → right-click → Properties...  → Properties window   </em>\n",
    "\n",
    "####  ↳ Querying the GLADE catalog (v2.3)\n",
    "* [Using Aladin GUI](https://drive.google.com/open?id=11rCSzdUd4AP49T26ujOyQfZ0CQ4e9KP1) <em> Aladin data collections tree → Select → click on the catalog item → in the popup menu check  → by region&MOC   </em>\n",
    "\n",
    "####  ↳ Filtering the galaxies  according with the distance information\n",
    "* [Using Aladin GUI](https://drive.google.com/open?id=1FJ0GtEt4qXOtEmET7mXtCW_0lggouXUm) <em> Catalog →  Create a filter  → Properties window → Advanced mode → Or enter your filter definition: `${Dist}>31 && ${Dist}<45 {draw}`    </em>\n",
    " \n",
    "####  ↳ Search for the host galaxy NGC 4993\n",
    "* [Using Aladin GUI](https://drive.google.com/open?id=1cSeL3HJBAEXAqBOGSdb5zTAAZPhpVPpM) <em>Type in the Command bar: NGC 4993    </em>"
   ]
  }
 ],
 "metadata": {
  "kernelspec": {
   "display_name": "Python 3",
   "language": "python",
   "name": "python3"
  },
  "language_info": {
   "codemirror_mode": {
    "name": "ipython",
    "version": 3
   },
   "file_extension": ".py",
   "mimetype": "text/x-python",
   "name": "python",
   "nbconvert_exporter": "python",
   "pygments_lexer": "ipython3",
   "version": "3.6.7"
  }
 },
 "nbformat": 4,
 "nbformat_minor": 2
}
